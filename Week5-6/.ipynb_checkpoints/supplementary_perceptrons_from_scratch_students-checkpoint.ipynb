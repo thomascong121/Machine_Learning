{
 "cells": [
  {
   "cell_type": "markdown",
   "metadata": {},
   "source": [
    "This is a supplementary file for the tutorial this week and can be safely ignored\n",
    "solutions will also be posted for this at the end of the week if you are interested\n",
    "if you find any errors please notify me at omarghattas1991@gmail.com"
   ]
  },
  {
   "cell_type": "markdown",
   "metadata": {},
   "source": [
    "Aim: We are going to explore three fundamental algorithms that are the basis for deep learning:\n",
    "1. the Perceptron training rule\n",
    "2. Gradient Descent\n",
    "3. Stochastic Gradient Descent\n",
    "\n",
    "At the end of this lab you should be comfortable with perceptron training and the basics of \n",
    "gradient descent -> be able to start thinking about neural networks and building them from scratch \n"
   ]
  },
  {
   "cell_type": "code",
   "execution_count": 1,
   "metadata": {},
   "outputs": [],
   "source": [
    "import numpy as np\n",
    "import matplotlib.pyplot as plt\n",
    "\n",
    "np.random.seed(43)\n",
    "%matplotlib inline"
   ]
  },
  {
   "cell_type": "markdown",
   "metadata": {},
   "source": [
    "## Helper Functions"
   ]
  },
  {
   "cell_type": "code",
   "execution_count": 2,
   "metadata": {},
   "outputs": [],
   "source": [
    "def plot_scatter(X, y, w):\n",
    "    pos_points = X[np.where(y==1)[0]]\n",
    "    neg_points = X[np.where(y==-1)[0]]\n",
    "    plt.scatter(pos_points[:, 1], pos_points[:, 2], color='blue')\n",
    "    plt.scatter(neg_points[:, 1], neg_points[:, 2], color='red')\n",
    "    xx = np.linspace(-6,6)\n",
    "    yy = -w[0]/w[2] - w[1]/w[2] * xx\n",
    "    plt.plot(xx, yy, color='orange')\n",
    "    \n",
    "    ratio = (w[2]/w[1] + w[1]/w[2])\n",
    "    xpt = (-1*w[0] / w[2]) * 1/ratio\n",
    "    ypt = (-1*w[0] / w[1]) * 1/ratio\n",
    "    \n",
    "    plt.axes().arrow(xpt, ypt, w[1], w[2], head_width=0.2, color='orange')\n",
    "    plt.axis('equal')\n",
    "    plt.show()\n",
    "    \n",
    "#plot_scatter(X, y, w=np.array([0,-1,3]))"
   ]
  },
  {
   "cell_type": "code",
   "execution_count": 23,
   "metadata": {},
   "outputs": [
    {
     "name": "stderr",
     "output_type": "stream",
     "text": [
      "/Applications/anaconda3/lib/python3.7/site-packages/ipykernel_launcher.py:2: RuntimeWarning: covariance is not symmetric positive-semidefinite.\n",
      "  \n",
      "/Applications/anaconda3/lib/python3.7/site-packages/ipykernel_launcher.py:3: RuntimeWarning: covariance is not symmetric positive-semidefinite.\n",
      "  This is separate from the ipykernel package so we can avoid doing imports until\n"
     ]
    }
   ],
   "source": [
    "def generate_data(n=20):\n",
    "    dist_01 = np.random.multivariate_normal(np.array([2,2]), np.array([[1,0.9],[0.5,1]]), n)\n",
    "    dist_02 = np.random.multivariate_normal(np.array([-2,-2]),np.array([[1,0],[0.3,1]]), n)\n",
    "    X = np.concatenate((np.ones(2*n).reshape(-1,1), np.concatenate((dist_01, dist_02))), axis=1)\n",
    "    y = np.concatenate((np.ones(n), -1*np.ones(n)))\n",
    "    shuffle_idx = np.random.choice(2*n, size=2*n, replace=False)\n",
    "    X = X[shuffle_idx]\n",
    "    y = y[shuffle_idx]\n",
    "    return X, y\n",
    "X, y = generate_data()\n"
   ]
  },
  {
   "cell_type": "code",
   "execution_count": null,
   "metadata": {},
   "outputs": [],
   "source": [
    "## Perceptron Training Rule"
   ]
  },
  {
   "cell_type": "code",
   "execution_count": 29,
   "metadata": {
    "scrolled": false
   },
   "outputs": [],
   "source": [
    "def train_perceptron(X, y, eta=1):\n",
    "    w = np.array([-2,-1,3])\n",
    "    nmb_data = X.shape[0]\n",
    "    '''\n",
    "    your code here\n",
    "    '''\n",
    "    #iteratively train model, until there is no error, if there is an error, retrain the model\n",
    "    while True:\n",
    "        count = 0\n",
    "        for i in range(nmb_data):\n",
    "            if(((y[i] * w.T) @ X[i]) <= 0):\n",
    "                w = w + eta * y[i] * X[i]\n",
    "                plot_scatter(X, y, w)\n",
    "                print(\"Iteration {0}, w is {1}\".format(count,w))\n",
    "                count = 0\n",
    "            count += 1\n",
    "            print(\"Iteration {0}, w is {1}\".format(count,w))\n",
    "            if(count > nmb_data):\n",
    "                print('converged')\n",
    "                plot_scatter(X, y, w)\n",
    "                return\n",
    "            "
   ]
  },
  {
   "cell_type": "code",
   "execution_count": 30,
   "metadata": {
    "scrolled": true
   },
   "outputs": [
    {
     "name": "stdout",
     "output_type": "stream",
     "text": [
      "Iteration 1, w is [-2 -1  3]\n",
      "Iteration 2, w is [-2 -1  3]\n",
      "Iteration 3, w is [-2 -1  3]\n"
     ]
    },
    {
     "name": "stderr",
     "output_type": "stream",
     "text": [
      "/Applications/anaconda3/lib/python3.7/site-packages/ipykernel_launcher.py:2: RuntimeWarning: covariance is not symmetric positive-semidefinite.\n",
      "  \n",
      "/Applications/anaconda3/lib/python3.7/site-packages/ipykernel_launcher.py:3: RuntimeWarning: covariance is not symmetric positive-semidefinite.\n",
      "  This is separate from the ipykernel package so we can avoid doing imports until\n"
     ]
    },
    {
     "data": {
      "image/png": "[encoded data removed]",
      "text/plain": [
       "<Figure size 432x288 with 1 Axes>"
      ]
     },
     "metadata": {
      "needs_background": "light"
     },
     "output_type": "display_data"
    },
    {
     "name": "stdout",
     "output_type": "stream",
     "text": [
      "Iteration 3, w is [-1.9        -0.79216168  3.12332088]\n",
      "Iteration 1, w is [-1.9        -0.79216168  3.12332088]\n",
      "Iteration 2, w is [-1.9        -0.79216168  3.12332088]\n",
      "Iteration 3, w is [-1.9        -0.79216168  3.12332088]\n",
      "Iteration 4, w is [-1.9        -0.79216168  3.12332088]\n",
      "Iteration 5, w is [-1.9        -0.79216168  3.12332088]\n",
      "Iteration 6, w is [-1.9        -0.79216168  3.12332088]\n",
      "Iteration 7, w is [-1.9        -0.79216168  3.12332088]\n",
      "Iteration 8, w is [-1.9        -0.79216168  3.12332088]\n"
     ]
    },
    {
     "data": {
      "image/png": "[encoded data removed]",
      "text/plain": [
       "<Figure size 432x288 with 1 Axes>"
      ]
     },
     "metadata": {
      "needs_background": "light"
     },
     "output_type": "display_data"
    },
    {
     "name": "stdout",
     "output_type": "stream",
     "text": [
      "Iteration 8, w is [-1.8        -0.65141794  3.2067204 ]\n",
      "Iteration 1, w is [-1.8        -0.65141794  3.2067204 ]\n",
      "Iteration 2, w is [-1.8        -0.65141794  3.2067204 ]\n",
      "Iteration 3, w is [-1.8        -0.65141794  3.2067204 ]\n",
      "Iteration 4, w is [-1.8        -0.65141794  3.2067204 ]\n",
      "Iteration 5, w is [-1.8        -0.65141794  3.2067204 ]\n",
      "Iteration 6, w is [-1.8        -0.65141794  3.2067204 ]\n",
      "Iteration 7, w is [-1.8        -0.65141794  3.2067204 ]\n",
      "Iteration 8, w is [-1.8        -0.65141794  3.2067204 ]\n",
      "Iteration 9, w is [-1.8        -0.65141794  3.2067204 ]\n",
      "Iteration 10, w is [-1.8        -0.65141794  3.2067204 ]\n",
      "Iteration 11, w is [-1.8        -0.65141794  3.2067204 ]\n",
      "Iteration 12, w is [-1.8        -0.65141794  3.2067204 ]\n",
      "Iteration 13, w is [-1.8        -0.65141794  3.2067204 ]\n",
      "Iteration 14, w is [-1.8        -0.65141794  3.2067204 ]\n",
      "Iteration 15, w is [-1.8        -0.65141794  3.2067204 ]\n",
      "Iteration 16, w is [-1.8        -0.65141794  3.2067204 ]\n",
      "Iteration 17, w is [-1.8        -0.65141794  3.2067204 ]\n",
      "Iteration 18, w is [-1.8        -0.65141794  3.2067204 ]\n",
      "Iteration 19, w is [-1.8        -0.65141794  3.2067204 ]\n",
      "Iteration 20, w is [-1.8        -0.65141794  3.2067204 ]\n",
      "Iteration 21, w is [-1.8        -0.65141794  3.2067204 ]\n",
      "Iteration 22, w is [-1.8        -0.65141794  3.2067204 ]\n",
      "Iteration 23, w is [-1.8        -0.65141794  3.2067204 ]\n",
      "Iteration 24, w is [-1.8        -0.65141794  3.2067204 ]\n",
      "Iteration 25, w is [-1.8        -0.65141794  3.2067204 ]\n",
      "Iteration 26, w is [-1.8        -0.65141794  3.2067204 ]\n"
     ]
    },
    {
     "data": {
      "image/png": "[encoded data removed]",
      "text/plain": [
       "<Figure size 432x288 with 1 Axes>"
      ]
     },
     "metadata": {
      "needs_background": "light"
     },
     "output_type": "display_data"
    },
    {
     "name": "stdout",
     "output_type": "stream",
     "text": [
      "Iteration 26, w is [-1.9        -0.29639234  3.18625947]\n",
      "Iteration 1, w is [-1.9        -0.29639234  3.18625947]\n",
      "Iteration 2, w is [-1.9        -0.29639234  3.18625947]\n",
      "Iteration 3, w is [-1.9        -0.29639234  3.18625947]\n"
     ]
    }
   ],
   "source": [
    "X, y = generate_data()\n",
    "train_perceptron(X, y, eta=0.1)"
   ]
  },
  {
   "cell_type": "code",
   "execution_count": null,
   "metadata": {},
   "outputs": [],
   "source": []
  },
  {
   "cell_type": "markdown",
   "metadata": {},
   "source": [
    "## Gradient Descent"
   ]
  },
  {
   "cell_type": "code",
   "execution_count": null,
   "metadata": {},
   "outputs": [],
   "source": []
  },
  {
   "cell_type": "code",
   "execution_count": 20,
   "metadata": {},
   "outputs": [],
   "source": [
    "def sigmoid(x,a=1):\n",
    "    # your code here\n",
    "    return 1/(1+np.exp(-a*x))\n",
    "\n",
    "def grad_sigmoid(x, a=1):\n",
    "    # your code here\n",
    "    return sigmoid(x,a)*(1-sigmoid(x,a))"
   ]
  },
  {
   "cell_type": "code",
   "execution_count": 21,
   "metadata": {},
   "outputs": [
    {
     "data": {
      "image/png": "[encoded data removed]",
      "text/plain": [
       "<Figure size 432x288 with 1 Axes>"
      ]
     },
     "metadata": {
      "needs_background": "light"
     },
     "output_type": "display_data"
    }
   ],
   "source": [
    "# plot sig functions \n",
    "xx = np.linspace(-6,6,1000)\n",
    "a_vals = [0.4,1,2,3]\n",
    "cols = ['red', 'blue', 'orange', 'green']\n",
    "y_sig = [sigmoid(xx, a_val) for a_val in a_vals]\n",
    "y_grad_sig = [grad_sigmoid(xx, a_val) for a_val in a_vals]\n",
    "\n",
    "for i in range(len(a_vals)):\n",
    "    label = str(a_vals[i])\n",
    "    plt.plot(xx, y_sig[i], label=rf'$a={label}$', color=cols[i])\n",
    "    plt.plot(xx, y_grad_sig[i], color=cols[i])\n",
    "plt.legend()\n",
    "plt.show()"
   ]
  },
  {
   "cell_type": "code",
   "execution_count": null,
   "metadata": {},
   "outputs": [],
   "source": [
    "def loss_i(w, x_i, y_i):\n",
    "    '''squared loss for i-th data point'''\n",
    "    # your code here\n",
    "    return (y_i - sigmoid(x_i,a))**2\n",
    "    \n",
    "    \n",
    "def grad_loss_i(w, x_i, y_i):\n",
    "    '''grad loss for i-th data point'''\n",
    "    # your code here\n",
    "    return (y_i - sigmoid(x_i,a)) * (-x_i) * grad_sigmoid(w@x_i)\n",
    "\n",
    "def gradient_descent(X, y, eta, T):\n",
    "    #T iterations\n",
    "    nmb_data = X.shape[0]\n",
    "    w = np.array([-2,-1,-3])\n",
    "    plot_scatter(X, y, w)\n",
    "    # your code here\n",
    "    for i in range(T):\n",
    "        loss = 0\n",
    "        grad_loss = 0\n",
    "        for t in range(nmb_data):\n",
    "            loss += loss_i(w,X[i],y[i])\n",
    "            grad_loss += grad_loss_i(w,X[i],y[i])\n",
    "        loss *= 0.5\n",
    "        w = w-eta*grad_loss"
   ]
  },
  {
   "cell_type": "code",
   "execution_count": null,
   "metadata": {
    "scrolled": true
   },
   "outputs": [],
   "source": [
    "X, y = generate_data(50)\n",
    "gradient_descent(X, y, 0.2, 25)"
   ]
  },
  {
   "cell_type": "code",
   "execution_count": null,
   "metadata": {},
   "outputs": [],
   "source": []
  },
  {
   "cell_type": "markdown",
   "metadata": {},
   "source": [
    "## Stochastic Gradient Descent"
   ]
  },
  {
   "cell_type": "code",
   "execution_count": null,
   "metadata": {},
   "outputs": [],
   "source": [
    "def stochastic_gradient_descent(X, y, eta, T):\n",
    "    #T iterations\n",
    "    nmb_data = X.shape[0]\n",
    "    w = np.array([-2,-1,-3])\n",
    "    plot_scatter(X, y, w)\n",
    "    # your code here\n",
    "    for i in range(T):\n",
    "        loss = 0\n",
    "        for t in range(nmb_data):\n",
    "            loss += loss_i(w,X[i],y[i])\n",
    "            w = w-eta*grad_loss\n",
    "        loss *= 0.5\n",
    "        "
   ]
  },
  {
   "cell_type": "code",
   "execution_count": null,
   "metadata": {
    "scrolled": false
   },
   "outputs": [],
   "source": [
    "# generate data\n",
    "X, y = generate_data()\n",
    "stochastic_gradient_descent(X, y, 0.5, 15)"
   ]
  },
  {
   "cell_type": "code",
   "execution_count": null,
   "metadata": {},
   "outputs": [],
   "source": []
  },
  {
   "cell_type": "code",
   "execution_count": null,
   "metadata": {},
   "outputs": [],
   "source": []
  },
  {
   "cell_type": "code",
   "execution_count": null,
   "metadata": {},
   "outputs": [],
   "source": []
  }
 ],
 "metadata": {
  "kernelspec": {
   "display_name": "Python 3",
   "language": "python",
   "name": "python3"
  },
  "language_info": {
   "codemirror_mode": {
    "name": "ipython",
    "version": 3
   },
   "file_extension": ".py",
   "mimetype": "text/x-python",
   "name": "python",
   "nbconvert_exporter": "python",
   "pygments_lexer": "ipython3",
   "version": "3.7.1"
  }
 },
 "nbformat": 4,
 "nbformat_minor": 2
}
