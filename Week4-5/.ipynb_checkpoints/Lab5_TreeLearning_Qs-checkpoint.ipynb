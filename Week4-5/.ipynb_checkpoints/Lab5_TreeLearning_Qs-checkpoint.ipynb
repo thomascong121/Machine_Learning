{
 "cells": [
  {
   "cell_type": "markdown",
   "metadata": {},
   "source": [
    "# Tree Learning – implementation and application of decision trees"
   ]
  },
  {
   "cell_type": "markdown",
   "metadata": {},
   "source": [
    "## Introduction"
   ]
  },
  {
   "cell_type": "markdown",
   "metadata": {},
   "source": [
    "This notebook gives you the opportunity to implement some key components of decision tree learning and run your algorithm on a benchmark dataset. So restrictions will be made to simplify the problem. The notebook concludes by asking you to run the decision tree learning (and tree-based method of \"Random Forests\") from scikit-learn for comparison.\n",
    "\n",
    "Make sure you have the Titanic dataset (\"```titanic.csv```\") in the directory from where you are running the notebook before you start."
   ]
  },
  {
   "cell_type": "code",
   "execution_count": 1,
   "metadata": {},
   "outputs": [],
   "source": [
    "import numpy as np\n",
    "import pandas as pd\n",
    "from matplotlib import pyplot as plt\n",
    "%matplotlib inline\n",
    "import seaborn as sns"
   ]
  },
  {
   "cell_type": "code",
   "execution_count": 2,
   "metadata": {},
   "outputs": [
    {
     "name": "stdout",
     "output_type": "stream",
     "text": [
      "<class 'pandas.core.frame.DataFrame'>\n",
      "RangeIndex: 891 entries, 0 to 890\n",
      "Data columns (total 12 columns):\n",
      "PassengerId    891 non-null int64\n",
      "Survived       891 non-null int64\n",
      "Pclass         891 non-null int64\n",
      "Name           891 non-null object\n",
      "Sex            891 non-null object\n",
      "Age            714 non-null float64\n",
      "SibSp          891 non-null int64\n",
      "Parch          891 non-null int64\n",
      "Ticket         891 non-null object\n",
      "Fare           891 non-null float64\n",
      "Cabin          204 non-null object\n",
      "Embarked       889 non-null object\n",
      "dtypes: float64(2), int64(5), object(5)\n",
      "memory usage: 83.6+ KB\n"
     ]
    }
   ],
   "source": [
    "ds = pd.read_csv('titanic.csv')\n",
    "ds.info()"
   ]
  },
  {
   "cell_type": "markdown",
   "metadata": {},
   "source": [
    "## Data Preprocessing "
   ]
  },
  {
   "cell_type": "markdown",
   "metadata": {},
   "source": [
    "To simplify things we will focus on the supplied dataset and start by doing some preprocessing, including feature selection, turning categorical data to numeric, and some other stuff. Spend about 10 minutes and go through this if you have any doubts. We start by inspecting the dataset. "
   ]
  },
  {
   "cell_type": "code",
   "execution_count": 3,
   "metadata": {},
   "outputs": [
    {
     "data": {
      "text/html": [
       "<div>\n",
       "<style scoped>\n",
       "    .dataframe tbody tr th:only-of-type {\n",
       "        vertical-align: middle;\n",
       "    }\n",
       "\n",
       "    .dataframe tbody tr th {\n",
       "        vertical-align: top;\n",
       "    }\n",
       "\n",
       "    .dataframe thead th {\n",
       "        text-align: right;\n",
       "    }\n",
       "</style>\n",
       "<table border=\"1\" class=\"dataframe\">\n",
       "  <thead>\n",
       "    <tr style=\"text-align: right;\">\n",
       "      <th></th>\n",
       "      <th>PassengerId</th>\n",
       "      <th>Survived</th>\n",
       "      <th>Pclass</th>\n",
       "      <th>Name</th>\n",
       "      <th>Sex</th>\n",
       "      <th>Age</th>\n",
       "      <th>SibSp</th>\n",
       "      <th>Parch</th>\n",
       "      <th>Ticket</th>\n",
       "      <th>Fare</th>\n",
       "      <th>Cabin</th>\n",
       "      <th>Embarked</th>\n",
       "    </tr>\n",
       "  </thead>\n",
       "  <tbody>\n",
       "    <tr>\n",
       "      <th>0</th>\n",
       "      <td>1</td>\n",
       "      <td>0</td>\n",
       "      <td>3</td>\n",
       "      <td>Braund, Mr. Owen Harris</td>\n",
       "      <td>male</td>\n",
       "      <td>22.0</td>\n",
       "      <td>1</td>\n",
       "      <td>0</td>\n",
       "      <td>A/5 21171</td>\n",
       "      <td>7.2500</td>\n",
       "      <td>NaN</td>\n",
       "      <td>S</td>\n",
       "    </tr>\n",
       "    <tr>\n",
       "      <th>1</th>\n",
       "      <td>2</td>\n",
       "      <td>1</td>\n",
       "      <td>1</td>\n",
       "      <td>Cumings, Mrs. John Bradley (Florence Briggs Th...</td>\n",
       "      <td>female</td>\n",
       "      <td>38.0</td>\n",
       "      <td>1</td>\n",
       "      <td>0</td>\n",
       "      <td>PC 17599</td>\n",
       "      <td>71.2833</td>\n",
       "      <td>C85</td>\n",
       "      <td>C</td>\n",
       "    </tr>\n",
       "    <tr>\n",
       "      <th>2</th>\n",
       "      <td>3</td>\n",
       "      <td>1</td>\n",
       "      <td>3</td>\n",
       "      <td>Heikkinen, Miss. Laina</td>\n",
       "      <td>female</td>\n",
       "      <td>26.0</td>\n",
       "      <td>0</td>\n",
       "      <td>0</td>\n",
       "      <td>STON/O2. 3101282</td>\n",
       "      <td>7.9250</td>\n",
       "      <td>NaN</td>\n",
       "      <td>S</td>\n",
       "    </tr>\n",
       "    <tr>\n",
       "      <th>3</th>\n",
       "      <td>4</td>\n",
       "      <td>1</td>\n",
       "      <td>1</td>\n",
       "      <td>Futrelle, Mrs. Jacques Heath (Lily May Peel)</td>\n",
       "      <td>female</td>\n",
       "      <td>35.0</td>\n",
       "      <td>1</td>\n",
       "      <td>0</td>\n",
       "      <td>113803</td>\n",
       "      <td>53.1000</td>\n",
       "      <td>C123</td>\n",
       "      <td>S</td>\n",
       "    </tr>\n",
       "    <tr>\n",
       "      <th>4</th>\n",
       "      <td>5</td>\n",
       "      <td>0</td>\n",
       "      <td>3</td>\n",
       "      <td>Allen, Mr. William Henry</td>\n",
       "      <td>male</td>\n",
       "      <td>35.0</td>\n",
       "      <td>0</td>\n",
       "      <td>0</td>\n",
       "      <td>373450</td>\n",
       "      <td>8.0500</td>\n",
       "      <td>NaN</td>\n",
       "      <td>S</td>\n",
       "    </tr>\n",
       "  </tbody>\n",
       "</table>\n",
       "</div>"
      ],
      "text/plain": [
       "   PassengerId  Survived  Pclass  \\\n",
       "0            1         0       3   \n",
       "1            2         1       1   \n",
       "2            3         1       3   \n",
       "3            4         1       1   \n",
       "4            5         0       3   \n",
       "\n",
       "                                                Name     Sex   Age  SibSp  \\\n",
       "0                            Braund, Mr. Owen Harris    male  22.0      1   \n",
       "1  Cumings, Mrs. John Bradley (Florence Briggs Th...  female  38.0      1   \n",
       "2                             Heikkinen, Miss. Laina  female  26.0      0   \n",
       "3       Futrelle, Mrs. Jacques Heath (Lily May Peel)  female  35.0      1   \n",
       "4                           Allen, Mr. William Henry    male  35.0      0   \n",
       "\n",
       "   Parch            Ticket     Fare Cabin Embarked  \n",
       "0      0         A/5 21171   7.2500   NaN        S  \n",
       "1      0          PC 17599  71.2833   C85        C  \n",
       "2      0  STON/O2. 3101282   7.9250   NaN        S  \n",
       "3      0            113803  53.1000  C123        S  \n",
       "4      0            373450   8.0500   NaN        S  "
      ]
     },
     "execution_count": 3,
     "metadata": {},
     "output_type": "execute_result"
    }
   ],
   "source": [
    "ds.head()"
   ]
  },
  {
   "cell_type": "markdown",
   "metadata": {},
   "source": [
    "Do we need all the features ? No."
   ]
  },
  {
   "cell_type": "code",
   "execution_count": 4,
   "metadata": {},
   "outputs": [
    {
     "data": {
      "text/html": [
       "<div>\n",
       "<style scoped>\n",
       "    .dataframe tbody tr th:only-of-type {\n",
       "        vertical-align: middle;\n",
       "    }\n",
       "\n",
       "    .dataframe tbody tr th {\n",
       "        vertical-align: top;\n",
       "    }\n",
       "\n",
       "    .dataframe thead th {\n",
       "        text-align: right;\n",
       "    }\n",
       "</style>\n",
       "<table border=\"1\" class=\"dataframe\">\n",
       "  <thead>\n",
       "    <tr style=\"text-align: right;\">\n",
       "      <th></th>\n",
       "      <th>Survived</th>\n",
       "      <th>Pclass</th>\n",
       "      <th>Sex</th>\n",
       "      <th>Age</th>\n",
       "      <th>SibSp</th>\n",
       "      <th>Parch</th>\n",
       "      <th>Fare</th>\n",
       "    </tr>\n",
       "  </thead>\n",
       "  <tbody>\n",
       "    <tr>\n",
       "      <th>0</th>\n",
       "      <td>0</td>\n",
       "      <td>3</td>\n",
       "      <td>male</td>\n",
       "      <td>22.0</td>\n",
       "      <td>1</td>\n",
       "      <td>0</td>\n",
       "      <td>7.2500</td>\n",
       "    </tr>\n",
       "    <tr>\n",
       "      <th>1</th>\n",
       "      <td>1</td>\n",
       "      <td>1</td>\n",
       "      <td>female</td>\n",
       "      <td>38.0</td>\n",
       "      <td>1</td>\n",
       "      <td>0</td>\n",
       "      <td>71.2833</td>\n",
       "    </tr>\n",
       "    <tr>\n",
       "      <th>2</th>\n",
       "      <td>1</td>\n",
       "      <td>3</td>\n",
       "      <td>female</td>\n",
       "      <td>26.0</td>\n",
       "      <td>0</td>\n",
       "      <td>0</td>\n",
       "      <td>7.9250</td>\n",
       "    </tr>\n",
       "    <tr>\n",
       "      <th>3</th>\n",
       "      <td>1</td>\n",
       "      <td>1</td>\n",
       "      <td>female</td>\n",
       "      <td>35.0</td>\n",
       "      <td>1</td>\n",
       "      <td>0</td>\n",
       "      <td>53.1000</td>\n",
       "    </tr>\n",
       "    <tr>\n",
       "      <th>4</th>\n",
       "      <td>0</td>\n",
       "      <td>3</td>\n",
       "      <td>male</td>\n",
       "      <td>35.0</td>\n",
       "      <td>0</td>\n",
       "      <td>0</td>\n",
       "      <td>8.0500</td>\n",
       "    </tr>\n",
       "  </tbody>\n",
       "</table>\n",
       "</div>"
      ],
      "text/plain": [
       "   Survived  Pclass     Sex   Age  SibSp  Parch     Fare\n",
       "0         0       3    male  22.0      1      0   7.2500\n",
       "1         1       1  female  38.0      1      0  71.2833\n",
       "2         1       3  female  26.0      0      0   7.9250\n",
       "3         1       1  female  35.0      1      0  53.1000\n",
       "4         0       3    male  35.0      0      0   8.0500"
      ]
     },
     "execution_count": 4,
     "metadata": {},
     "output_type": "execute_result"
    }
   ],
   "source": [
    "cols_to_drop = [\n",
    "    'PassengerId',\n",
    "    'Name',\n",
    "    'Ticket',\n",
    "    'Cabin',\n",
    "    'Embarked',\n",
    "]\n",
    "\n",
    "df = ds.drop(cols_to_drop, axis=1)\n",
    "df.head()"
   ]
  },
  {
   "cell_type": "markdown",
   "metadata": {},
   "source": [
    "Another simplification will be to treat all attributes as numeric. So we need to convert any that are not."
   ]
  },
  {
   "cell_type": "code",
   "execution_count": 5,
   "metadata": {},
   "outputs": [
    {
     "data": {
      "text/html": [
       "<div>\n",
       "<style scoped>\n",
       "    .dataframe tbody tr th:only-of-type {\n",
       "        vertical-align: middle;\n",
       "    }\n",
       "\n",
       "    .dataframe tbody tr th {\n",
       "        vertical-align: top;\n",
       "    }\n",
       "\n",
       "    .dataframe thead th {\n",
       "        text-align: right;\n",
       "    }\n",
       "</style>\n",
       "<table border=\"1\" class=\"dataframe\">\n",
       "  <thead>\n",
       "    <tr style=\"text-align: right;\">\n",
       "      <th></th>\n",
       "      <th>Survived</th>\n",
       "      <th>Pclass</th>\n",
       "      <th>Sex</th>\n",
       "      <th>Age</th>\n",
       "      <th>SibSp</th>\n",
       "      <th>Parch</th>\n",
       "      <th>Fare</th>\n",
       "    </tr>\n",
       "  </thead>\n",
       "  <tbody>\n",
       "    <tr>\n",
       "      <th>0</th>\n",
       "      <td>0</td>\n",
       "      <td>3</td>\n",
       "      <td>0</td>\n",
       "      <td>22.0</td>\n",
       "      <td>1</td>\n",
       "      <td>0</td>\n",
       "      <td>7.2500</td>\n",
       "    </tr>\n",
       "    <tr>\n",
       "      <th>1</th>\n",
       "      <td>1</td>\n",
       "      <td>1</td>\n",
       "      <td>1</td>\n",
       "      <td>38.0</td>\n",
       "      <td>1</td>\n",
       "      <td>0</td>\n",
       "      <td>71.2833</td>\n",
       "    </tr>\n",
       "    <tr>\n",
       "      <th>2</th>\n",
       "      <td>1</td>\n",
       "      <td>3</td>\n",
       "      <td>1</td>\n",
       "      <td>26.0</td>\n",
       "      <td>0</td>\n",
       "      <td>0</td>\n",
       "      <td>7.9250</td>\n",
       "    </tr>\n",
       "    <tr>\n",
       "      <th>3</th>\n",
       "      <td>1</td>\n",
       "      <td>1</td>\n",
       "      <td>1</td>\n",
       "      <td>35.0</td>\n",
       "      <td>1</td>\n",
       "      <td>0</td>\n",
       "      <td>53.1000</td>\n",
       "    </tr>\n",
       "    <tr>\n",
       "      <th>4</th>\n",
       "      <td>0</td>\n",
       "      <td>3</td>\n",
       "      <td>0</td>\n",
       "      <td>35.0</td>\n",
       "      <td>0</td>\n",
       "      <td>0</td>\n",
       "      <td>8.0500</td>\n",
       "    </tr>\n",
       "  </tbody>\n",
       "</table>\n",
       "</div>"
      ],
      "text/plain": [
       "   Survived  Pclass  Sex   Age  SibSp  Parch     Fare\n",
       "0         0       3    0  22.0      1      0   7.2500\n",
       "1         1       1    1  38.0      1      0  71.2833\n",
       "2         1       3    1  26.0      0      0   7.9250\n",
       "3         1       1    1  35.0      1      0  53.1000\n",
       "4         0       3    0  35.0      0      0   8.0500"
      ]
     },
     "execution_count": 5,
     "metadata": {},
     "output_type": "execute_result"
    }
   ],
   "source": [
    "def convert_sex_to_num(s):\n",
    "    if s=='male':\n",
    "        return 0\n",
    "    elif s=='female':\n",
    "        return 1\n",
    "    else:\n",
    "        return s\n",
    "\n",
    "df.Sex = df.Sex.map(convert_sex_to_num)\n",
    "df.head()"
   ]
  },
  {
   "cell_type": "markdown",
   "metadata": {},
   "source": [
    "Let's overview the preprocessed dataset now with some standard commands."
   ]
  },
  {
   "cell_type": "code",
   "execution_count": 6,
   "metadata": {},
   "outputs": [
    {
     "data": {
      "text/html": [
       "<div>\n",
       "<style scoped>\n",
       "    .dataframe tbody tr th:only-of-type {\n",
       "        vertical-align: middle;\n",
       "    }\n",
       "\n",
       "    .dataframe tbody tr th {\n",
       "        vertical-align: top;\n",
       "    }\n",
       "\n",
       "    .dataframe thead th {\n",
       "        text-align: right;\n",
       "    }\n",
       "</style>\n",
       "<table border=\"1\" class=\"dataframe\">\n",
       "  <thead>\n",
       "    <tr style=\"text-align: right;\">\n",
       "      <th></th>\n",
       "      <th>Survived</th>\n",
       "      <th>Pclass</th>\n",
       "      <th>Sex</th>\n",
       "      <th>Age</th>\n",
       "      <th>SibSp</th>\n",
       "      <th>Parch</th>\n",
       "      <th>Fare</th>\n",
       "    </tr>\n",
       "  </thead>\n",
       "  <tbody>\n",
       "    <tr>\n",
       "      <th>count</th>\n",
       "      <td>714.000000</td>\n",
       "      <td>714.000000</td>\n",
       "      <td>714.000000</td>\n",
       "      <td>714.000000</td>\n",
       "      <td>714.000000</td>\n",
       "      <td>714.000000</td>\n",
       "      <td>714.000000</td>\n",
       "    </tr>\n",
       "    <tr>\n",
       "      <th>mean</th>\n",
       "      <td>0.406162</td>\n",
       "      <td>2.236695</td>\n",
       "      <td>0.365546</td>\n",
       "      <td>29.699118</td>\n",
       "      <td>0.512605</td>\n",
       "      <td>0.431373</td>\n",
       "      <td>34.694514</td>\n",
       "    </tr>\n",
       "    <tr>\n",
       "      <th>std</th>\n",
       "      <td>0.491460</td>\n",
       "      <td>0.838250</td>\n",
       "      <td>0.481921</td>\n",
       "      <td>14.526497</td>\n",
       "      <td>0.929783</td>\n",
       "      <td>0.853289</td>\n",
       "      <td>52.918930</td>\n",
       "    </tr>\n",
       "    <tr>\n",
       "      <th>min</th>\n",
       "      <td>0.000000</td>\n",
       "      <td>1.000000</td>\n",
       "      <td>0.000000</td>\n",
       "      <td>0.420000</td>\n",
       "      <td>0.000000</td>\n",
       "      <td>0.000000</td>\n",
       "      <td>0.000000</td>\n",
       "    </tr>\n",
       "    <tr>\n",
       "      <th>25%</th>\n",
       "      <td>0.000000</td>\n",
       "      <td>1.000000</td>\n",
       "      <td>0.000000</td>\n",
       "      <td>20.125000</td>\n",
       "      <td>0.000000</td>\n",
       "      <td>0.000000</td>\n",
       "      <td>8.050000</td>\n",
       "    </tr>\n",
       "    <tr>\n",
       "      <th>50%</th>\n",
       "      <td>0.000000</td>\n",
       "      <td>2.000000</td>\n",
       "      <td>0.000000</td>\n",
       "      <td>28.000000</td>\n",
       "      <td>0.000000</td>\n",
       "      <td>0.000000</td>\n",
       "      <td>15.741700</td>\n",
       "    </tr>\n",
       "    <tr>\n",
       "      <th>75%</th>\n",
       "      <td>1.000000</td>\n",
       "      <td>3.000000</td>\n",
       "      <td>1.000000</td>\n",
       "      <td>38.000000</td>\n",
       "      <td>1.000000</td>\n",
       "      <td>1.000000</td>\n",
       "      <td>33.375000</td>\n",
       "    </tr>\n",
       "    <tr>\n",
       "      <th>max</th>\n",
       "      <td>1.000000</td>\n",
       "      <td>3.000000</td>\n",
       "      <td>1.000000</td>\n",
       "      <td>80.000000</td>\n",
       "      <td>5.000000</td>\n",
       "      <td>6.000000</td>\n",
       "      <td>512.329200</td>\n",
       "    </tr>\n",
       "  </tbody>\n",
       "</table>\n",
       "</div>"
      ],
      "text/plain": [
       "         Survived      Pclass         Sex         Age       SibSp       Parch  \\\n",
       "count  714.000000  714.000000  714.000000  714.000000  714.000000  714.000000   \n",
       "mean     0.406162    2.236695    0.365546   29.699118    0.512605    0.431373   \n",
       "std      0.491460    0.838250    0.481921   14.526497    0.929783    0.853289   \n",
       "min      0.000000    1.000000    0.000000    0.420000    0.000000    0.000000   \n",
       "25%      0.000000    1.000000    0.000000   20.125000    0.000000    0.000000   \n",
       "50%      0.000000    2.000000    0.000000   28.000000    0.000000    0.000000   \n",
       "75%      1.000000    3.000000    1.000000   38.000000    1.000000    1.000000   \n",
       "max      1.000000    3.000000    1.000000   80.000000    5.000000    6.000000   \n",
       "\n",
       "             Fare  \n",
       "count  714.000000  \n",
       "mean    34.694514  \n",
       "std     52.918930  \n",
       "min      0.000000  \n",
       "25%      8.050000  \n",
       "50%     15.741700  \n",
       "75%     33.375000  \n",
       "max    512.329200  "
      ]
     },
     "execution_count": 6,
     "metadata": {},
     "output_type": "execute_result"
    }
   ],
   "source": [
    "data = df.dropna()\n",
    "data.describe()"
   ]
  },
  {
   "cell_type": "code",
   "execution_count": 7,
   "metadata": {},
   "outputs": [
    {
     "data": {
      "text/plain": [
       "<matplotlib.axes._subplots.AxesSubplot at 0x1a19b88470>"
      ]
     },
     "execution_count": 7,
     "metadata": {},
     "output_type": "execute_result"
    },
    {
     "data": {
      "image/png": "[encoded data removed]",
      "text/plain": [
       "<Figure size 432x288 with 2 Axes>"
      ]
     },
     "metadata": {
      "needs_background": "light"
     },
     "output_type": "display_data"
    }
   ],
   "source": [
    "plt.figure()\n",
    "sns.heatmap(data.corr())"
   ]
  },
  {
   "cell_type": "code",
   "execution_count": 8,
   "metadata": {},
   "outputs": [
    {
     "name": "stdout",
     "output_type": "stream",
     "text": [
      "(714, 6) (714, 1)\n"
     ]
    }
   ],
   "source": [
    "input_cols = ['Pclass', 'Sex', 'Age', 'SibSp', 'Parch', 'Fare']\n",
    "out_cols = ['Survived']\n",
    "\n",
    "X = data[input_cols]\n",
    "y = data[out_cols]\n",
    "\n",
    "#X.head()\n",
    "print (X.shape, y.shape)"
   ]
  },
  {
   "cell_type": "code",
   "execution_count": 146,
   "metadata": {},
   "outputs": [
    {
     "data": {
      "text/plain": [
       "Pclass     3.00\n",
       "Sex        0.00\n",
       "Age       22.00\n",
       "SibSp      1.00\n",
       "Parch      0.00\n",
       "Fare       7.25\n",
       "Name: 0, dtype: float64"
      ]
     },
     "execution_count": 146,
     "metadata": {},
     "output_type": "execute_result"
    }
   ],
   "source": [
    "data = data.reset_index(drop=True)\n",
    "df = data.sort_values('Survived')\n",
    "# print(df[df.Survived==0].shape[0])\n",
    "# # print(df[df['Survived']==1].shape[0])\n",
    "# # print(data.shape[0])\n",
    "#data[\"Pclass\"]\n",
    "val = X.iloc[0,:]\n",
    "val"
   ]
  },
  {
   "cell_type": "markdown",
   "metadata": {},
   "source": [
    "## Functions for your Decision Tree learning algorithm"
   ]
  },
  {
   "cell_type": "markdown",
   "metadata": {},
   "source": [
    "Now is your chance to go ahead and implement some of the functionality needed for the decision tree learner. Remember that the _class_ variable for which we need to learn a tree is ```Survived```."
   ]
  },
  {
   "cell_type": "code",
   "execution_count": 314,
   "metadata": {},
   "outputs": [
    {
     "data": {
      "text/html": [
       "<div>\n",
       "<style scoped>\n",
       "    .dataframe tbody tr th:only-of-type {\n",
       "        vertical-align: middle;\n",
       "    }\n",
       "\n",
       "    .dataframe tbody tr th {\n",
       "        vertical-align: top;\n",
       "    }\n",
       "\n",
       "    .dataframe thead th {\n",
       "        text-align: right;\n",
       "    }\n",
       "</style>\n",
       "<table border=\"1\" class=\"dataframe\">\n",
       "  <thead>\n",
       "    <tr style=\"text-align: right;\">\n",
       "      <th></th>\n",
       "      <th>Pclass</th>\n",
       "      <th>Sex</th>\n",
       "      <th>Age</th>\n",
       "      <th>SibSp</th>\n",
       "      <th>Parch</th>\n",
       "      <th>Fare</th>\n",
       "    </tr>\n",
       "  </thead>\n",
       "  <tbody>\n",
       "    <tr>\n",
       "      <th>0</th>\n",
       "      <td>3.0</td>\n",
       "      <td>1.0</td>\n",
       "      <td>26.0</td>\n",
       "      <td>0.0</td>\n",
       "      <td>0.0</td>\n",
       "      <td>7.925</td>\n",
       "    </tr>\n",
       "  </tbody>\n",
       "</table>\n",
       "</div>"
      ],
      "text/plain": [
       "   Pclass  Sex   Age  SibSp  Parch   Fare\n",
       "0     3.0  1.0  26.0    0.0    0.0  7.925"
      ]
     },
     "execution_count": 314,
     "metadata": {},
     "output_type": "execute_result"
    }
   ],
   "source": [
    "x_right = pd.DataFrame([], columns=X.columns)\n",
    "val_row = X.iloc[2,:]\n",
    "# x_right = pd.concat([x_right,val_row])\n",
    "\n",
    "d={}\n",
    "for i in input_cols:\n",
    "    d[i]=val_row[i]\n",
    "x_right = x_right.append(d,ignore_index=True)\n",
    "x_right"
   ]
  },
  {
   "cell_type": "code",
   "execution_count": 322,
   "metadata": {},
   "outputs": [],
   "source": [
    "def divide_data(x_data, fkey, fval):\n",
    "\n",
    "    x_right = pd.DataFrame([], columns=x_data.columns)\n",
    "    x_left = pd.DataFrame([], columns=x_data.columns)\n",
    "    for ix in range(x_data.shape[0]):\n",
    "        # Retrieve the current value for the fkey column lets call it val\n",
    "        try:\n",
    "            #TODO\n",
    "            val = x_data.iloc[ix][fkey]\n",
    "            val_row = x_data.iloc[ix,:]\n",
    "#             print(\"key \",val)\n",
    "#             print(\"val \",val_row)\n",
    "        except:\n",
    "            #TODO\n",
    "            break\n",
    "            \n",
    "        \n",
    "        # Check where the row needs to go\n",
    "        if val > fval:\n",
    "            # pass the row to right\n",
    "            #TODO\n",
    "            x_right = x_right.append(val_row)\n",
    "#             print(\"val: \",val_row)\n",
    "#             print(\"right: \",x_right)\n",
    "        else:\n",
    "            # pass the row to left\n",
    "            #TODO\n",
    "            x_left = x_left.append(val_row)\n",
    "#             print(\"val,\" ,val_row)\n",
    "#             print(\"left: \",x_left)\n",
    "    \n",
    "    # return the divided datasets\n",
    "    #TODO\n",
    "    series = pd.Series()\n",
    "    series['0'] = x_left\n",
    "    series['1'] = x_right\n",
    "#     print(\"heaeaea: \",series)\n",
    "    return series\n",
    "\n",
    "def entropy(data, col):\n",
    "    #TODO\n",
    "    #total number of data\n",
    "    S = col.shape[0]\n",
    "    #number of class of data\n",
    "    values = col.unique()\n",
    "    H = 0\n",
    "    part1 = 0\n",
    "    part2 = 0\n",
    "    for i in values:\n",
    "        #number of data of class i\n",
    "        df1 = data.loc[col == i]\n",
    "        Sv = df1.shape[0]\n",
    "        #number of pos\n",
    "        pos = df1[df1.Survived==1].shape[0]\n",
    "        #number of neg\n",
    "        neg = df1[df1.Survived==0].shape[0]\n",
    "#         print(\"total: \",Sv)\n",
    "#         print(\"neg is {0}, pos is {1}\".format(neg,pos))\n",
    "        if(pos == 0):\n",
    "            part1 = 0\n",
    "        elif(pos!=0):\n",
    "            part1 = -(pos/Sv)*np.log2(pos/Sv)\n",
    "        if(neg == 0):\n",
    "            part2 = 0\n",
    "        elif(neg!=0):\n",
    "            part2 = -(neg/Sv)*np.log2(neg/Sv)\n",
    "        \n",
    "        H+=(Sv/S)*(part1 + part2)\n",
    "        #print(\"Entropy is: \",H)\n",
    "        \n",
    "    return H\n",
    "        \n",
    "\n",
    "def information_gain(xdata, fkey, fval):\n",
    "    #TODO\n",
    "    total = xdata.shape[0]\n",
    "    \n",
    "    #initial pos\n",
    "    pos1 = xdata[xdata.Survived==1].shape[0]\n",
    "    #initial neg\n",
    "    neg1 = xdata[xdata.Survived==0].shape[0]\n",
    "    Intial = ((-pos1/total)*np.log2(pos1/total)-(neg1/total)*np.log2(neg1/total))\n",
    "    Entropy = entropy(xdata,xdata[fkey])\n",
    "    return Intial - Entropy"
   ]
  },
  {
   "cell_type": "code",
   "execution_count": 323,
   "metadata": {},
   "outputs": [],
   "source": [
    "# d = {\"age\":[1,1,2,3,3,3,2,1,1,3,1,2,2,3],\"buy\":[0,0,1,1,1,0,1,0,1,1,1,1,1,0]}\n",
    "# df = pd.DataFrame(d)\n",
    "# d = {\"age\":[1,1,2,3,3,3,2,1,1,3,1,2,2,4],\"buy\":[0,0,1,1,1,0,1,0,1,1,1,1,1,1]}\n",
    "# df1 = pd.DataFrame(d)\n",
    "# series = pd.Series()\n",
    "# series['0'] = df\n",
    "# series['1'] = df1\n",
    "# for i in range(len(series)):\n",
    "#     sp = series.iloc[i]\n",
    "#     print(sp)\n",
    "#     print()\n",
    "    "
   ]
  },
  {
   "cell_type": "code",
   "execution_count": 324,
   "metadata": {},
   "outputs": [
    {
     "name": "stdout",
     "output_type": "stream",
     "text": [
      "Pclass\n",
      "0.09568028536525675\n",
      "Sex\n",
      "0.21601606075154256\n",
      "Age\n",
      "0.12708102145051403\n",
      "SibSp\n",
      "0.024433098695422872\n",
      "Parch\n",
      "0.03006901595955691\n",
      "Fare\n",
      "0.45887916393629924\n"
     ]
    }
   ],
   "source": [
    "#Here X is your data without the Survived column. Run it after you have filled in the missing code above. \n",
    "\n",
    "for fx in X.columns:\n",
    "    print (fx) \n",
    "    print (information_gain(data, fx, data[fx].mean()))\n",
    "# for fx in df.columns:\n",
    "#     print (fx) \n",
    "#     print (information_gain(df, fx, df[fx].mean()))\n",
    "#     break\n"
   ]
  },
  {
   "cell_type": "code",
   "execution_count": 325,
   "metadata": {},
   "outputs": [
    {
     "data": {
      "text/plain": [
       "'a'"
      ]
     },
     "execution_count": 325,
     "metadata": {},
     "output_type": "execute_result"
    }
   ],
   "source": [
    "d = {}\n",
    "l = ['a','b','c','d']\n",
    "for i in range(4):\n",
    "    d[l[i]] = 10\n",
    "\n",
    "maxValKey = max(d, key=d.get)\n",
    "maxValKey"
   ]
  },
  {
   "cell_type": "code",
   "execution_count": 374,
   "metadata": {},
   "outputs": [],
   "source": [
    "class DecisionTree:\n",
    "    def __init__(self, depth=0, max_depth=5):\n",
    "        self.left = None\n",
    "        self.right = None\n",
    "        self.fkey = None\n",
    "        self.fval = None\n",
    "        self.max_depth = max_depth\n",
    "        self.depth = depth\n",
    "        self.target = None\n",
    "    \n",
    "    def train(self, train,d,dd):\n",
    "        Tree = dd\n",
    "        #print(train.head(5))\n",
    "        input_cols = ['Pclass', 'Sex', 'Age', 'SibSp', 'Parch', 'Fare']\n",
    "        out_cols = ['Survived']\n",
    "        col_dict = {'Pclass':0, 'Sex':1, 'Age':2, 'SibSp':3, 'Parch':4, 'Fare':5}\n",
    "        X_train = train[input_cols]\n",
    "        y_train = train[out_cols]\n",
    "        self.depth = d\n",
    "#         print (self.depth, '-'*10)\n",
    "#         print(\"max is \",self.max_depth)\n",
    "        if(self.depth > self.max_depth):\n",
    "            zero = y_train[y_train.Survived==0].shape[0]\n",
    "            one = y_train[y_train.Survived==1].shape[0]\n",
    "            if(zero > one):\n",
    "                return 0\n",
    "            else:\n",
    "                return 1\n",
    "\n",
    "\n",
    "        \n",
    "        # Get the best possible feature and division value (gains)\n",
    "        #TODO\n",
    "        # store the best feature (using min information gain)\n",
    "        #TODO\n",
    "        gains = {}\n",
    "        for fx in X_train.columns:\n",
    "            g = information_gain(train, fx, train[fx].mean())\n",
    "            gains[fx] = g\n",
    "        bestFeature = max(gains, key=gains.get)\n",
    "        # divide the dataset and reset index \n",
    "        #TODO\n",
    "        split_series = divide_data(train, bestFeature, train[bestFeature].mean())\n",
    "        #print(split_series)\n",
    "        Tree = {bestFeature:{}}\n",
    "        \n",
    "        for j in range(len(split_series)):\n",
    "            split_data = split_series.iloc[j]\n",
    "            if(j == 0):\n",
    "                value = '<= '+str(train[bestFeature].mean())\n",
    "            else:\n",
    "                value = '>'+str(train[bestFeature].mean())\n",
    "            self.depth+=1\n",
    "            Tree[bestFeature][value] = self.train(split_data,self.depth,Tree) \n",
    "            \n",
    "\n",
    " \n",
    "            \n",
    "            \n",
    "            \n",
    "            # Check the shapes and depth if it has exceeded max_depth or not in case it has make predictions \n",
    "            # TODO\n",
    "\n",
    "            # branch to right\n",
    "            #TODO\n",
    "\n",
    "            # branch to left\n",
    "            #TODO\n",
    "\n",
    "            #Make your prediction \n",
    "            #TODO\n",
    "        \n",
    "        return Tree\n",
    "    \n",
    "    def predict(self,rules,data):\n",
    "        if(isinstance(rules,int)):\n",
    "            return rules \n",
    "\n",
    "        for i in rules.keys():\n",
    "            if(i in data):\n",
    "                val = data[i]\n",
    "                for j in rules[i].keys():\n",
    "                    jj = str(val) + j\n",
    "                    if(eval(jj)):\n",
    "                        result = pred(rules[i][j],data)\n",
    "        return result\n",
    "    \n",
    "#     def predict(self, test):\n",
    "#         if test[self.fkey] > self.fval:\n",
    "#             pass\n",
    "#             # go right\n",
    "#             #TODO\n",
    "#         else:\n",
    "#             pass\n",
    "#             # go left\n",
    "#             #TODO"
   ]
  },
  {
   "cell_type": "markdown",
   "metadata": {},
   "source": [
    "## Divide your data: separate Training and Test sets"
   ]
  },
  {
   "cell_type": "code",
   "execution_count": 375,
   "metadata": {},
   "outputs": [
    {
     "name": "stdout",
     "output_type": "stream",
     "text": [
      "(571, 7)\n",
      "(143, 7)\n"
     ]
    }
   ],
   "source": [
    "#Train:Test:0.8:0.2\n",
    "slices = int(data.shape[0]*0.8)\n",
    "training_data = data.head(slices)\n",
    "Testing_data = data.loc[slices:data.shape[0],:]\n",
    "print(Train.shape)\n",
    "print(Test.shape)"
   ]
  },
  {
   "cell_type": "markdown",
   "metadata": {},
   "source": [
    "## Train your own decision tree"
   ]
  },
  {
   "cell_type": "code",
   "execution_count": 376,
   "metadata": {},
   "outputs": [],
   "source": [
    "\n",
    "dt = DecisionTree()\n",
    "rules = dt.train(training_data,0,{})\n"
   ]
  },
  {
   "cell_type": "code",
   "execution_count": 377,
   "metadata": {},
   "outputs": [
    {
     "data": {
      "text/plain": [
       "'\\nprint (dt.fkey, dt.fval)\\nprint (dt.right.fkey, dt.right.fval)\\nprint (dt.left.fkey, dt.left.fval)\\n\\nprint (dt.right.right.fkey, dt.right.right.fval)\\nprint (dt.right.left.fkey, dt.right.left.fval)\\n\\n\\nprint (dt.left.right.fkey, dt.left.right.fval)\\nprint (dt.left.left.fkey, dt.left.left.fval)\\n'"
      ]
     },
     "execution_count": 377,
     "metadata": {},
     "output_type": "execute_result"
    }
   ],
   "source": [
    "'''\n",
    "print (dt.fkey, dt.fval)\n",
    "print (dt.right.fkey, dt.right.fval)\n",
    "print (dt.left.fkey, dt.left.fval)\n",
    "\n",
    "print (dt.right.right.fkey, dt.right.right.fval)\n",
    "print (dt.right.left.fkey, dt.right.left.fval)\n",
    "\n",
    "\n",
    "print (dt.left.right.fkey, dt.left.right.fval)\n",
    "print (dt.left.left.fkey, dt.left.left.fval)\n",
    "'''"
   ]
  },
  {
   "cell_type": "code",
   "execution_count": 411,
   "metadata": {},
   "outputs": [
    {
     "name": "stdout",
     "output_type": "stream",
     "text": [
      "{'Fare': {'<= 35.444439229422024': {'Fare': {'<= 14.965582435597199': {'Fare': {'<= 9.233348507462688': {'Fare': {'<= 7.538276506024092': {'Age': {'<= 29.431818181818183': {'Fare': {'<= 6.505866666666667': 0, '>6.505866666666667': 0}}, '>29.431818181818183': 0}}, '>7.538276506024092': 0}}, '>9.233348507462688': 0}}, '>14.965582435597199': 0}}, '>35.444439229422024': 1}}\n",
      "Survived     0.000\n",
      "Pclass       3.000\n",
      "Sex          0.000\n",
      "Age         33.000\n",
      "SibSp        0.000\n",
      "Parch        0.000\n",
      "Fare         7.775\n",
      "Name: 571, dtype: float64\n",
      "0\n"
     ]
    }
   ],
   "source": [
    "def pred(rules,data):\n",
    "    if(isinstance(rules,int)):\n",
    "        return rules \n",
    "\n",
    "    for i in rules.keys():\n",
    "        if(i in data):\n",
    "            val = data[i]\n",
    "            for j in rules[i].keys():\n",
    "                jj = str(val) + j\n",
    "                if(eval(jj)):\n",
    "                    result = pred(rules[i][j],data)\n",
    "    return result\n",
    "                    \n",
    "\n",
    "data = Testing_data.iloc[0,:]\n",
    "print(rules)\n",
    "print(data)\n",
    "print(pred(rules,data))"
   ]
  },
  {
   "cell_type": "markdown",
   "metadata": {},
   "source": [
    "Make predictions for the first 10 and see if they are correct.  "
   ]
  },
  {
   "cell_type": "code",
   "execution_count": 359,
   "metadata": {},
   "outputs": [
    {
     "name": "stdout",
     "output_type": "stream",
     "text": [
      "7.775\n",
      "33.0\n",
      "7.0542\n",
      "13.0\n",
      "13.0\n",
      "53.1\n",
      "8.6625\n",
      "21.0\n",
      "26.0\n",
      "7.925\n"
     ]
    }
   ],
   "source": [
    "for ix in Testing_data.index[:10]:\n",
    "    print(Testing_data.loc[ix]['Fare'])\n",
    "    print (dt.predict(Testing_data.loc[ix]))"
   ]
  },
  {
   "cell_type": "code",
   "execution_count": null,
   "metadata": {
    "collapsed": true
   },
   "outputs": [],
   "source": [
    "testing_data.head(10)"
   ]
  },
  {
   "cell_type": "markdown",
   "metadata": {},
   "source": [
    "Now check for the entire test set how many you get correct: aim to get at least 75 percent accuracy !"
   ]
  },
  {
   "cell_type": "code",
   "execution_count": null,
   "metadata": {},
   "outputs": [],
   "source": []
  },
  {
   "cell_type": "markdown",
   "metadata": {},
   "source": [
    "## Now use SKLEARN: Decision tree and Random Forests"
   ]
  },
  {
   "cell_type": "code",
   "execution_count": null,
   "metadata": {
    "collapsed": true
   },
   "outputs": [],
   "source": []
  },
  {
   "cell_type": "code",
   "execution_count": null,
   "metadata": {
    "collapsed": true
   },
   "outputs": [],
   "source": []
  }
 ],
 "metadata": {
  "kernelspec": {
   "display_name": "Python 3",
   "language": "python",
   "name": "python3"
  },
  "language_info": {
   "codemirror_mode": {
    "name": "ipython",
    "version": 3
   },
   "file_extension": ".py",
   "mimetype": "text/x-python",
   "name": "python",
   "nbconvert_exporter": "python",
   "pygments_lexer": "ipython3",
   "version": "3.7.1"
  }
 },
 "nbformat": 4,
 "nbformat_minor": 2
}
